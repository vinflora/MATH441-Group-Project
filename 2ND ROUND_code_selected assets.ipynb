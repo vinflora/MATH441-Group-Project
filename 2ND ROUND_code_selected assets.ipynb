{
 "cells": [
  {
   "cell_type": "code",
   "execution_count": 1,
   "id": "794be8cd-1b89-42f9-b2e1-a9ddc98ac8e3",
   "metadata": {
    "collapsed": true,
    "jupyter": {
     "outputs_hidden": true
    },
    "tags": []
   },
   "outputs": [
    {
     "name": "stdout",
     "output_type": "stream",
     "text": [
      "Requirement already satisfied: pulp in /opt/conda/lib/python3.10/site-packages (2.7.0)\n",
      "Requirement already satisfied: yfinance in /opt/conda/lib/python3.10/site-packages (0.2.37)\n",
      "Requirement already satisfied: html5lib>=1.1 in /opt/conda/lib/python3.10/site-packages (from yfinance) (1.1)\n",
      "Requirement already satisfied: pytz>=2022.5 in /opt/conda/lib/python3.10/site-packages (from yfinance) (2022.7.1)\n",
      "Requirement already satisfied: frozendict>=2.3.4 in /opt/conda/lib/python3.10/site-packages (from yfinance) (2.4.1)\n",
      "Requirement already satisfied: peewee>=3.16.2 in /opt/conda/lib/python3.10/site-packages (from yfinance) (3.17.1)\n",
      "Requirement already satisfied: pandas>=1.3.0 in /opt/conda/lib/python3.10/site-packages (from yfinance) (1.5.3)\n",
      "Requirement already satisfied: beautifulsoup4>=4.11.1 in /opt/conda/lib/python3.10/site-packages (from yfinance) (4.11.1)\n",
      "Requirement already satisfied: appdirs>=1.4.4 in /opt/conda/lib/python3.10/site-packages (from yfinance) (1.4.4)\n",
      "Requirement already satisfied: requests>=2.31 in /opt/conda/lib/python3.10/site-packages (from yfinance) (2.31.0)\n",
      "Requirement already satisfied: lxml>=4.9.1 in /opt/conda/lib/python3.10/site-packages (from yfinance) (4.9.2)\n",
      "Requirement already satisfied: multitasking>=0.0.7 in /opt/conda/lib/python3.10/site-packages (from yfinance) (0.0.11)\n",
      "Requirement already satisfied: numpy>=1.16.5 in /opt/conda/lib/python3.10/site-packages (from yfinance) (1.23.5)\n",
      "Requirement already satisfied: soupsieve>1.2 in /opt/conda/lib/python3.10/site-packages (from beautifulsoup4>=4.11.1->yfinance) (2.3.2.post1)\n",
      "Requirement already satisfied: six>=1.9 in /opt/conda/lib/python3.10/site-packages (from html5lib>=1.1->yfinance) (1.16.0)\n",
      "Requirement already satisfied: webencodings in /opt/conda/lib/python3.10/site-packages (from html5lib>=1.1->yfinance) (0.5.1)\n",
      "Requirement already satisfied: python-dateutil>=2.8.1 in /opt/conda/lib/python3.10/site-packages (from pandas>=1.3.0->yfinance) (2.8.2)\n",
      "Requirement already satisfied: certifi>=2017.4.17 in /opt/conda/lib/python3.10/site-packages (from requests>=2.31->yfinance) (2022.12.7)\n",
      "Requirement already satisfied: idna<4,>=2.5 in /opt/conda/lib/python3.10/site-packages (from requests>=2.31->yfinance) (3.4)\n",
      "Requirement already satisfied: urllib3<3,>=1.21.1 in /opt/conda/lib/python3.10/site-packages (from requests>=2.31->yfinance) (1.26.14)\n",
      "Requirement already satisfied: charset-normalizer<4,>=2 in /opt/conda/lib/python3.10/site-packages (from requests>=2.31->yfinance) (2.1.1)\n",
      "Requirement already satisfied: cvxpy in /opt/conda/lib/python3.10/site-packages (1.4.2)\n",
      "Requirement already satisfied: clarabel>=0.5.0 in /opt/conda/lib/python3.10/site-packages (from cvxpy) (0.7.1)\n",
      "Requirement already satisfied: scs>=3.0 in /opt/conda/lib/python3.10/site-packages (from cvxpy) (3.2.4.post1)\n",
      "Requirement already satisfied: numpy>=1.15 in /opt/conda/lib/python3.10/site-packages (from cvxpy) (1.23.5)\n",
      "Requirement already satisfied: scipy>=1.1.0 in /opt/conda/lib/python3.10/site-packages (from cvxpy) (1.10.0)\n",
      "Requirement already satisfied: ecos>=2 in /opt/conda/lib/python3.10/site-packages (from cvxpy) (2.0.13)\n",
      "Requirement already satisfied: osqp>=0.6.2 in /opt/conda/lib/python3.10/site-packages (from cvxpy) (0.6.5)\n",
      "Requirement already satisfied: pybind11 in /opt/conda/lib/python3.10/site-packages (from cvxpy) (2.12.0)\n",
      "Requirement already satisfied: qdldl in /opt/conda/lib/python3.10/site-packages (from osqp>=0.6.2->cvxpy) (0.1.7.post1)\n"
     ]
    }
   ],
   "source": [
    "!pip install pulp\n",
    "!pip install yfinance\n",
    "!pip install cvxpy\n",
    "import cvxpy as cp\n",
    "import matplotlib.pyplot as plt\n",
    "import numpy as np\n",
    "import pandas as pd\n",
    "import pulp\n",
    "import scipy.linalg as la\n",
    "import yfinance as yf"
   ]
  },
  {
   "cell_type": "markdown",
   "id": "6212b89a-8b10-4b92-a102-e3bbfe4ed254",
   "metadata": {},
   "source": [
    "### Selected stock"
   ]
  },
  {
   "cell_type": "code",
   "execution_count": 6,
   "id": "b5113a6d-bd4c-4176-89e6-658f5daa2522",
   "metadata": {
    "tags": []
   },
   "outputs": [
    {
     "name": "stderr",
     "output_type": "stream",
     "text": [
      "[*********************100%%**********************]  1 of 1 completed\n",
      "[*********************100%%**********************]  1 of 1 completed\n",
      "[*********************100%%**********************]  1 of 1 completed\n",
      "[*********************100%%**********************]  1 of 1 completed\n",
      "[*********************100%%**********************]  1 of 1 completed\n",
      "[*********************100%%**********************]  1 of 1 completed\n",
      "[*********************100%%**********************]  1 of 1 completed"
     ]
    },
    {
     "name": "stdout",
     "output_type": "stream",
     "text": [
      "                    EA        MSFT        NFLX       GOOGL       IGSB  \\\n",
      "Date                                                                    \n",
      "2023-04-11  125.680000  282.829987  338.209991  105.349998  50.509998   \n",
      "2023-04-12  126.129997  283.489990  331.029999  104.639999  50.560001   \n",
      "2023-04-13  128.279999  289.839996  346.190002  107.430000  50.660000   \n",
      "2023-04-14  127.870003  286.140015  338.630005  108.870003  50.529999   \n",
      "2023-04-17  128.080002  288.799988  332.720001  105.970001  50.439999   \n",
      "...                ...         ...         ...         ...        ...   \n",
      "2024-04-04  129.559998  417.880005  617.140015  150.529999  51.080002   \n",
      "2024-04-05  130.289993  425.519989  636.179993  152.500000  51.009998   \n",
      "2024-04-08  130.000000  424.589996  628.409973  154.850006  50.950001   \n",
      "2024-04-09  130.690002  426.279999  618.200012  156.600006  51.009998   \n",
      "2024-04-10  129.300003  423.260010  618.580017  156.139999  50.720001   \n",
      "\n",
      "                 RYSE       XBIL  \n",
      "Date                              \n",
      "2023-04-11  25.674999  50.110001  \n",
      "2023-04-12  25.660000  50.119999  \n",
      "2023-04-13  25.830000  50.139999  \n",
      "2023-04-14  26.069000  50.130001  \n",
      "2023-04-17  26.379999  50.130001  \n",
      "...               ...        ...  \n",
      "2024-04-04  24.382000  49.950001  \n",
      "2024-04-05  24.788000  49.950001  \n",
      "2024-04-08  24.900000  49.950001  \n",
      "2024-04-09  24.598000  49.950001  \n",
      "2024-04-10  25.480000  49.955002  \n",
      "\n",
      "[252 rows x 7 columns]\n"
     ]
    },
    {
     "name": "stderr",
     "output_type": "stream",
     "text": [
      "\n"
     ]
    }
   ],
   "source": [
    "\n",
    "# Define the symbols for stocks and bonds\n",
    "assets = [\"EA\", \"MSFT\", \"NFLX\", \"GOOGL\", \"IGSB\", \"RYSE\", \"XBIL\"]\n",
    "\n",
    "# Fetch historical data for each symbol\n",
    "data = {}\n",
    "for symbol in assets:\n",
    "    data[symbol] = yf.download(symbol, period=\"1y\")\n",
    "\n",
    "# Create a DataFrame to store the close prices\n",
    "close_prices = pd.DataFrame(columns=assets)\n",
    "\n",
    "# Populate the DataFrame with close prices\n",
    "for symbol in assets:\n",
    "    close_prices[symbol] = data[symbol]['Close']\n",
    "\n",
    "# Display the DataFrame\n",
    "print(close_prices)\n"
   ]
  },
  {
   "cell_type": "code",
   "execution_count": 16,
   "id": "5f70996c-5418-416d-a43b-b61ec67a3022",
   "metadata": {
    "tags": []
   },
   "outputs": [
    {
     "name": "stdout",
     "output_type": "stream",
     "text": [
      "           EA      MSFT      NFLX     GOOGL      IGSB      RYSE      XBIL\n",
      "0    0.003580  0.002334 -0.021229 -0.006739  0.000990 -0.000584  0.000200\n",
      "1    0.017046  0.022399  0.045796  0.026663  0.001978  0.006625  0.000399\n",
      "2   -0.003196 -0.012766 -0.021838  0.013404 -0.002566  0.009253 -0.000199\n",
      "3    0.001642  0.009296 -0.017453 -0.026637 -0.001781  0.011930  0.000000\n",
      "4    0.007495 -0.001489  0.002945 -0.013872  0.000198 -0.002843  0.000000\n",
      "..        ...       ...       ...       ...       ...       ...       ...\n",
      "246 -0.022336 -0.006113 -0.020537 -0.028337  0.000784 -0.005019  0.000801\n",
      "247  0.005634  0.018283  0.030852  0.013087 -0.001370  0.016652  0.000000\n",
      "248 -0.002226 -0.002186 -0.012214  0.015410 -0.001176  0.004518  0.000000\n",
      "249  0.005308  0.003980 -0.016247  0.011301  0.001178 -0.012129  0.000000\n",
      "250 -0.010636 -0.007085  0.000615 -0.002937 -0.005685  0.035857  0.000100\n",
      "\n",
      "[251 rows x 7 columns]\n"
     ]
    }
   ],
   "source": [
    "returns = {}\n",
    "for symbol in symbols:\n",
    "    close = close_prices[symbol].values\n",
    "    T = 1  # Number of days in time period\n",
    "    returns[symbol] = (close[T:] - close[:-T]) / close[:-T]\n",
    "\n",
    "# Convert returns dictionary to DataFrame\n",
    "R = pd.DataFrame(returns)\n",
    "\n",
    "# Display the returns DataFrame\n",
    "print(R)"
   ]
  },
  {
   "cell_type": "code",
   "execution_count": 17,
   "id": "819dd570-2d1d-4982-b80b-d5fc597f00dc",
   "metadata": {
    "tags": []
   },
   "outputs": [
    {
     "name": "stdout",
     "output_type": "stream",
     "text": [
      "Mean Return for Each Symbol:\n",
      "EA       0.000176\n",
      "MSFT     0.001702\n",
      "NFLX     0.002652\n",
      "GOOGL    0.001716\n",
      "IGSB     0.000019\n",
      "RYSE     0.000094\n",
      "XBIL    -0.000012\n",
      "dtype: float64\n"
     ]
    }
   ],
   "source": [
    "r = R.mean()\n",
    "\n",
    "# Display the mean return for each symbol\n",
    "print(\"Mean Return for Each Symbol:\")\n",
    "print(mean_return)"
   ]
  },
  {
   "cell_type": "code",
   "execution_count": 18,
   "id": "c013a1c6-fbc7-4459-95b1-b6717cabfd99",
   "metadata": {
    "tags": []
   },
   "outputs": [
    {
     "name": "stdout",
     "output_type": "stream",
     "text": [
      "Covariance Matrix:\n",
      "[[ 1.24913550e-04  3.88965376e-05  4.02126633e-05  3.79564600e-05\n",
      "   2.34632652e-06 -8.88397020e-06 -2.47731611e-07]\n",
      " [ 3.88965376e-05  1.90349092e-04  1.22112322e-04  9.89474343e-05\n",
      "   1.11349563e-06  4.66047021e-06 -6.32001423e-07]\n",
      " [ 4.02126633e-05  1.22112322e-04  5.03095045e-04  1.14351464e-04\n",
      "   8.19450062e-06 -1.20940977e-05 -6.95216801e-07]\n",
      " [ 3.79564600e-05  9.89474343e-05  1.14351464e-04  2.93251399e-04\n",
      "   4.15295237e-06 -5.74052646e-06 -2.25096133e-07]\n",
      " [ 2.34632652e-06  1.11349563e-06  8.19450062e-06  4.15295237e-06\n",
      "   4.08689619e-06 -1.64084785e-05  6.22650425e-07]\n",
      " [-8.88397020e-06  4.66047021e-06 -1.20940977e-05 -5.74052646e-06\n",
      "  -1.64084785e-05  2.32413297e-04 -7.24634137e-07]\n",
      " [-2.47731611e-07 -6.32001423e-07 -6.95216801e-07 -2.25096133e-07\n",
      "   6.22650425e-07 -7.24634137e-07  8.99136718e-07]]\n"
     ]
    }
   ],
   "source": [
    "# Compute covariance between each symbol\n",
    "S = np.cov(R.T)\n",
    "\n",
    "# Display the covariance matrix\n",
    "print(\"Covariance Matrix:\")\n",
    "print(cov)"
   ]
  },
  {
   "cell_type": "markdown",
   "id": "99068ff9-6e58-495f-83c4-000b570d33f8",
   "metadata": {},
   "source": [
    "## Model 1A"
   ]
  },
  {
   "cell_type": "code",
   "execution_count": 20,
   "id": "22480d8d-7982-485d-80c1-a9ece2bc00ae",
   "metadata": {
    "tags": []
   },
   "outputs": [
    {
     "name": "stdout",
     "output_type": "stream",
     "text": [
      "Welcome to the CBC MILP Solver \n",
      "Version: 2.10.3 \n",
      "Build Date: Dec 15 2019 \n",
      "\n",
      "command line - /opt/conda/lib/python3.10/site-packages/pulp/solverdir/cbc/linux/64/cbc /tmp/1bcc839fb0de41db81029ce709134221-pulp.mps max timeMode elapsed branch printingOptions all solution /tmp/1bcc839fb0de41db81029ce709134221-pulp.sol (default strategy 1)\n",
      "At line 2 NAME          MODEL\n",
      "At line 3 ROWS\n",
      "At line 509 COLUMNS\n",
      "At line 4791 RHS\n",
      "At line 5296 BOUNDS\n",
      "At line 5297 ENDATA\n",
      "Problem MODEL has 504 rows, 258 columns and 4030 elements\n",
      "Coin0008I MODEL read with 0 errors\n",
      "Option for timeMode changed from cpu to elapsed\n",
      "Presolve 497 (-7) rows, 258 (0) columns and 3974 (-56) elements\n",
      "Perturbing problem by 0.001% of 0.0053852038 - largest nonzero change 4.9871207e-05 ( 17.070369%) - largest zero change 4.0815471e-05\n",
      "0  Obj -0 Primal inf 0.96866049 (2)\n",
      "39  Obj -0.00090853638 Primal inf 205.04533 (228)\n",
      "85  Obj -0.0017096251 Primal inf 250.57879 (231)\n",
      "136  Obj -0.0028571806 Primal inf 134.45391 (177)\n",
      "187  Obj -0.0036365336 Primal inf 63.733321 (153)\n",
      "238  Obj -0.0042086829 Primal inf 33.861182 (106)\n",
      "269  Obj -0.0043249162\n",
      "Optimal - objective value -0.0041529458\n",
      "After Postsolve, objective -0.0041529458, infeasibilities - dual 0.00014551781 (1), primal 0 (0)\n",
      "Presolved model was optimal, full model needs cleaning up\n",
      "0  Obj -0.0041529458 Dual inf 2.886871e-07 (1)\n",
      "Optimal - objective value -0.0041529458\n",
      "Optimal objective -0.00415294583 - 269 iterations time 0.012, Presolve 0.00\n",
      "Option for printingOptions changed from normal to all\n",
      "Total time (CPU seconds):       0.01   (Wallclock seconds):       0.03\n",
      "\n",
      "Status: Optimal\n",
      "Optimal Portfolio Weights:\n",
      "x0: 0.0\n",
      "x1: 0.18467519\n",
      "x2: 0.14935859\n",
      "x3: 0.052809133\n",
      "x4: 0.0\n",
      "x5: 0.05901759\n",
      "x6: 0.5541395\n",
      "Expected Return (MAD): 0.0008000000106364382\n",
      "Mean Absolute Deviation (MAD): 0.004152945829559444\n"
     ]
    }
   ],
   "source": [
    "from pulp import *\n",
    "import numpy as np\n",
    "\n",
    "# Define the data\n",
    "n = len(assets)  # Number of assets\n",
    "T = len(R)  # Number of time periods\n",
    "r0 = 0.0008\n",
    "\n",
    "# Define returns and covariance\n",
    "R = R.values\n",
    "S = np.cov(R.T)\n",
    "r = mean_return.values\n",
    "\n",
    "# Create a LP problem\n",
    "prob = LpProblem(\"Financial_Portfolio_Optimization\", LpMaximize)\n",
    "\n",
    "# Define decision variables\n",
    "x = [LpVariable(f\"x{j}\", lowBound=0) for j in range(n)]\n",
    "y = [LpVariable(f\"y{t}\", lowBound=0) for t in range(T)]\n",
    "\n",
    "# Define objective function\n",
    "prob += -(1 / T) * lpSum(y[t] for t in range(T)), \"Objective\"\n",
    "\n",
    "# Define constraints\n",
    "for t in range(T):\n",
    "    prob += (\n",
    "        lpSum(x[j] * (R[t][j] - r[j]) for j in range(n)) <= y[t],\n",
    "        f\"Upper_constraint_{t}\",\n",
    "    )\n",
    "    prob += (\n",
    "        lpSum(x[j] * (R[t][j] - r[j]) for j in range(n)) >= -y[t],\n",
    "        f\"Lower_constraint_{t}\",\n",
    "    )\n",
    "\n",
    "prob += lpSum(r[j] * x[j] for j in range(n)) == r0\n",
    "\n",
    "prob += lpSum(x) == 1, \"Sum_of_weights\"\n",
    "\n",
    "# Solve the problem\n",
    "prob.solve()\n",
    "\n",
    "# Print the results\n",
    "print(\"Status:\", LpStatus[prob.status])\n",
    "print(\"Optimal Portfolio Weights:\")\n",
    "for j in range(n):\n",
    "    print(f\"x{j}: {value(x[j])}\")\n",
    "print(\"Expected Return (MAD):\", value(lpSum(r[j] * x[j] for j in range(n))))\n",
    "print(\"Mean Absolute Deviation (MAD):\", value((1 / T) * lpSum(y[t] for t in range(T))))\n"
   ]
  },
  {
   "cell_type": "markdown",
   "id": "36e8d718-882f-4f2e-a552-bdcd1676680a",
   "metadata": {},
   "source": [
    "## Model 1B"
   ]
  },
  {
   "cell_type": "code",
   "execution_count": 21,
   "id": "0a8abe6f-a604-41c1-8773-d728cacbea6e",
   "metadata": {
    "tags": []
   },
   "outputs": [
    {
     "name": "stdout",
     "output_type": "stream",
     "text": [
      "Welcome to the CBC MILP Solver \n",
      "Version: 2.10.3 \n",
      "Build Date: Dec 15 2019 \n",
      "\n",
      "command line - /opt/conda/lib/python3.10/site-packages/pulp/solverdir/cbc/linux/64/cbc /tmp/afb19688794141559cf2f73145705f61-pulp.mps max timeMode elapsed branch printingOptions all solution /tmp/afb19688794141559cf2f73145705f61-pulp.sol (default strategy 1)\n",
      "At line 2 NAME          MODEL\n",
      "At line 3 ROWS\n",
      "At line 509 COLUMNS\n",
      "At line 4791 RHS\n",
      "At line 5296 BOUNDS\n",
      "At line 5297 ENDATA\n",
      "Problem MODEL has 504 rows, 258 columns and 4274 elements\n",
      "Coin0008I MODEL read with 0 errors\n",
      "Option for timeMode changed from cpu to elapsed\n",
      "Presolve 497 (-7) rows, 258 (0) columns and 4218 (-56) elements\n",
      "Perturbing problem by 0.001% of 0.0052032367 - largest nonzero change 0.00011908808 ( 34.093615%) - largest zero change 9.9715536e-05\n",
      "0  Obj -0 Primal inf 14.559002 (2) Dual inf 0.015417065 (6)\n",
      "64  Obj 0.004252521 Primal inf 1991.1969 (231)\n",
      "95  Obj 0.002139026 Primal inf 364.64994 (203)\n",
      "137  Obj 0.0013704446 Primal inf 63.343826 (134)\n",
      "180  Obj 0.0010755194 Primal inf 222.67123 (174)\n",
      "225  Obj 0.00092317192 Primal inf 52.163342 (119)\n",
      "261  Obj 0.00088598228\n",
      "261  Obj 0.0013500864 Dual inf 9.6649009e-06 (2)\n",
      "268  Obj 0.001354069\n",
      "Optimal - objective value 0.001354069\n",
      "After Postsolve, objective 0.001354069, infeasibilities - dual 0 (0), primal 0 (0)\n",
      "Optimal objective 0.001354068957 - 268 iterations time 0.022, Presolve 0.00\n",
      "Option for printingOptions changed from normal to all\n",
      "Total time (CPU seconds):       0.02   (Wallclock seconds):       0.03\n",
      "\n",
      "Status: Optimal\n",
      "Optimal Portfolio Weights:\n",
      "x0: 0.0\n",
      "x1: 0.3240737\n",
      "x2: 0.23957662\n",
      "x3: 0.093315729\n",
      "x4: 0.0\n",
      "x5: 0.10466573\n",
      "x6: 0.23836822\n",
      "Expected Return (MAD): 0.0013540689554589328\n",
      "Mean Absolute Deviation (MAD): 0.006999999991247016\n"
     ]
    }
   ],
   "source": [
    "from pulp import *\n",
    "\n",
    "# Define the data\n",
    "n = len(assets)  # Number of assets\n",
    "T = len(R[:, 0])  # Number of time periods\n",
    "m0 = 0.007\n",
    "\n",
    "# Create a LP problem\n",
    "prob = LpProblem(\"Financial_Portfolio_Optimization\", LpMaximize)\n",
    "\n",
    "# Define decision variables\n",
    "x = [LpVariable(f\"x{j}\", lowBound=0) for j in range(n)]\n",
    "y = [LpVariable(f\"y{t}\", lowBound=0) for t in range(T)]\n",
    "\n",
    "# Define objective function\n",
    "prob += lpSum(r[j] * x[j] for j in range(n)), \"Objective\"\n",
    "\n",
    "# Define constraints\n",
    "for t in range(T):\n",
    "    prob += (\n",
    "        lpSum(x[j] * (R[t][j] - r[j]) for j in range(n)) <= y[t],\n",
    "        f\"Upper_constraint_{t}\",\n",
    "    )\n",
    "    prob += (\n",
    "        lpSum(x[j] * (R[t][j] - r[j]) for j in range(n)) >= -y[t],\n",
    "        f\"Lower_constraint_{t}\",\n",
    "    )\n",
    "\n",
    "prob += (1 / T) * lpSum(y[t] for t in range(T)) <= m0, \"Risk\"\n",
    "\n",
    "prob += lpSum(x) == 1, \"Sum_of_weights\"\n",
    "\n",
    "# Solve the problem\n",
    "prob.solve()\n",
    "\n",
    "# Print the results\n",
    "print(\"Status:\", LpStatus[prob.status])\n",
    "print(\"Optimal Portfolio Weights:\")\n",
    "for j in range(n):\n",
    "    print(f\"x{j}: {value(x[j])}\")\n",
    "print(\"Expected Return (MAD):\", value(lpSum(r[j] * x[j] for j in range(n))))\n",
    "print(\"Mean Absolute Deviation (MAD):\", value((1 / T) * lpSum(y[t] for t in range(T))))\n"
   ]
  },
  {
   "cell_type": "markdown",
   "id": "0e8ea55d-8936-4107-85c6-5ad71a3c1dbd",
   "metadata": {},
   "source": [
    "### Model 1C"
   ]
  },
  {
   "cell_type": "code",
   "execution_count": 22,
   "id": "7678af51-67d7-4ad7-a69a-2026b2dd4286",
   "metadata": {
    "tags": []
   },
   "outputs": [
    {
     "name": "stdout",
     "output_type": "stream",
     "text": [
      "Welcome to the CBC MILP Solver \n",
      "Version: 2.10.3 \n",
      "Build Date: Dec 15 2019 \n",
      "\n",
      "command line - /opt/conda/lib/python3.10/site-packages/pulp/solverdir/cbc/linux/64/cbc /tmp/22d338083ef94873914b8ef16af6a7c1-pulp.mps max timeMode elapsed branch printingOptions all solution /tmp/22d338083ef94873914b8ef16af6a7c1-pulp.sol (default strategy 1)\n",
      "At line 2 NAME          MODEL\n",
      "At line 3 ROWS\n",
      "At line 508 COLUMNS\n",
      "At line 4790 RHS\n",
      "At line 5294 BOUNDS\n",
      "At line 5295 ENDATA\n",
      "Problem MODEL has 503 rows, 258 columns and 4023 elements\n",
      "Coin0008I MODEL read with 0 errors\n",
      "Option for timeMode changed from cpu to elapsed\n",
      "Presolve 496 (-7) rows, 258 (0) columns and 3967 (-56) elements\n",
      "Perturbing problem by 0.001% of 0.0053852038 - largest nonzero change 8.167337e-05 ( 23.50228%) - largest zero change 0\n",
      "0  Obj -0 Primal inf 0.18010583 (1) Dual inf 0.015603863 (6)\n",
      "58  Obj -0.00019713755 Primal inf 84.242691 (215)\n",
      "114  Obj -0.00030226203 Primal inf 13.135137 (198)\n",
      "168  Obj -0.00036722229 Primal inf 6.3355458 (143)\n",
      "218  Obj -0.00040369021 Primal inf 16.752949 (178)\n",
      "270  Obj -0.00043326018 Primal inf 0.18009008 (24)\n",
      "280  Obj -0.00043415559\n",
      "280  Obj -0.00041957458 Dual inf 5.149849e-05 (2)\n",
      "283  Obj -0.00041954064\n",
      "Optimal - objective value -0.00041954064\n",
      "After Postsolve, objective -0.00041954064, infeasibilities - dual 0 (0), primal 0 (0)\n",
      "Optimal objective -0.0004195406443 - 283 iterations time 0.022, Presolve 0.00\n",
      "Option for printingOptions changed from normal to all\n",
      "Total time (CPU seconds):       0.02   (Wallclock seconds):       0.02\n",
      "\n",
      "Status: Optimal\n",
      "Optimal Portfolio Weights:\n",
      "x0: 0.00089577305\n",
      "x1: 0.0023548619\n",
      "x2: 0.0027715434\n",
      "x3: 0.0\n",
      "x4: 0.0\n",
      "x5: 0.0033364259\n",
      "x6: 0.9906414\n",
      "Expected Return (MAD): 4.724707942967477e-08\n",
      "Mean Absolute Deviation (MAD): 0.0004195878913474105\n"
     ]
    }
   ],
   "source": [
    "from pulp import *\n",
    "\n",
    "# Define the data\n",
    "n = len(assets)  # Number of assets\n",
    "T = len(R[:, 0])  # Number of time periods\n",
    "mu = 1\n",
    "\n",
    "# Create a LP problem\n",
    "prob = LpProblem(\"Financial_Portfolio_Optimization\", LpMaximize)\n",
    "\n",
    "# Define decision variables\n",
    "x = [LpVariable(f\"x{j}\", lowBound=0) for j in range(n)]\n",
    "y = [LpVariable(f\"y{t}\", lowBound=0) for t in range(T)]\n",
    "\n",
    "# Define objective function\n",
    "prob += lpSum(r[j] * x[j] for j in range(n)) * mu - (1 / T) * lpSum(y[t] for t in range(T)), \"Objective\"\n",
    "\n",
    "# Define constraints\n",
    "for t in range(T):\n",
    "    prob += lpSum(x[j] * (R[t][j] - r[j]) for j in range(n)) <= y[t], f\"Upper_constraint_{t}\"\n",
    "    prob += lpSum(x[j] * (R[t][j] - r[j]) for j in range(n)) >= -y[t], f\"Lower_constraint_{t}\"\n",
    "\n",
    "prob += lpSum(x) == 1, \"Sum_of_weights\"\n",
    "\n",
    "# Solve the problem\n",
    "prob.solve()\n",
    "\n",
    "# Print the results\n",
    "print(\"Status:\", LpStatus[prob.status])\n",
    "print(\"Optimal Portfolio Weights:\")\n",
    "for j in range(n):\n",
    "    print(f\"x{j}: {value(x[j])}\")\n",
    "print(\"Expected Return (MAD):\", value(lpSum(r[j] * x[j] for j in range(n))))\n",
    "print(\"Mean Absolute Deviation (MAD):\", value((1 / T) * lpSum(y[t] for t in range(T))))\n"
   ]
  },
  {
   "cell_type": "markdown",
   "id": "ee428cb9-9cee-41c8-b5aa-34e96db7faa6",
   "metadata": {},
   "source": [
    "### Model 2A"
   ]
  },
  {
   "cell_type": "code",
   "execution_count": 23,
   "id": "c8ae1a52-838f-4498-89cb-46bf2cf2cd48",
   "metadata": {
    "tags": []
   },
   "outputs": [
    {
     "name": "stdout",
     "output_type": "stream",
     "text": [
      "Optimal Portfolio Weights:\n",
      "[[6.25649663e-15 1.20880508e-01 7.42359910e-02 6.08233316e-02\n",
      "  9.75002844e-04 1.73353617e-02 7.25749805e-01]]\n",
      "Expected Return: [0.0005]\n",
      "Mean Variance: [1.15698837e-05]\n"
     ]
    }
   ],
   "source": [
    "import cvxpy as cp\n",
    "import numpy as np\n",
    "\n",
    "# Define the data\n",
    "R_c = R - r.reshape(1, -1)\n",
    "sig = np.dot(R_c.T, R_c) / T\n",
    "r0 = 0.0005\n",
    "n = len(R[0, :])\n",
    "e = np.ones((n, 1))\n",
    "rq = r.reshape(n, 1)\n",
    "\n",
    "# Define the optimization variables\n",
    "X = cp.Variable((n, 1))\n",
    "\n",
    "# Define the objective function\n",
    "Objective = cp.Minimize(cp.quad_form(X, sig))\n",
    "\n",
    "# Define the constraints\n",
    "constraints = [e.T @ X == 1, X >= 0, rq.T @ X >= r0]\n",
    "\n",
    "# Formulate the optimization problem\n",
    "problem = cp.Problem(Objective, constraints)\n",
    "\n",
    "# Solve the problem\n",
    "result = problem.solve()\n",
    "\n",
    "# Print the results\n",
    "print(\"Optimal Portfolio Weights:\")\n",
    "print(X.value.T)\n",
    "print(\"Expected Return:\", (rq.T @ X.value)[0])\n",
    "print(\"Mean Variance:\", (X.value.T @ sig @ X.value)[0])"
   ]
  },
  {
   "cell_type": "markdown",
   "id": "f46786de-e0d9-4f4a-960d-17c4c7a0a99a",
   "metadata": {},
   "source": [
    "### Model 2B"
   ]
  },
  {
   "cell_type": "code",
   "execution_count": 24,
   "id": "8a72343c-cfb7-4830-aa3f-1b6eedf37db7",
   "metadata": {
    "tags": []
   },
   "outputs": [
    {
     "name": "stdout",
     "output_type": "stream",
     "text": [
      "Optimal Portfolio Weights:\n",
      "[-1.97546506e-23  2.70351476e-01  1.68992346e-01  1.38446682e-01\n",
      "  1.11124008e-23  3.08501058e-02  3.91359391e-01]\n"
     ]
    }
   ],
   "source": [
    "import cvxpy as cp\n",
    "import numpy as np\n",
    "\n",
    "# Define the data\n",
    "n = len(assets)\n",
    "q = 0.1\n",
    "e = np.ones(n)\n",
    "\n",
    "# Define the optimization variables\n",
    "X = cp.Variable(n)\n",
    "\n",
    "# Define the objective function\n",
    "obj = cp.Minimize(cp.quad_form(X, S) - q * r @ X)\n",
    "\n",
    "# Define the constraints\n",
    "constraints = [e @ X == 1, X >= 0]\n",
    "\n",
    "# Formulate the optimization problem\n",
    "problem = cp.Problem(obj, constraints)\n",
    "\n",
    "# Solve the problem\n",
    "result = problem.solve()\n",
    "\n",
    "# Print the optimal portfolio weights\n",
    "print(\"Optimal Portfolio Weights:\")\n",
    "print(X.value)"
   ]
  },
  {
   "cell_type": "markdown",
   "id": "1b9df471-6bec-41e1-8084-b5b47d8509d6",
   "metadata": {},
   "source": [
    "### Model 2C"
   ]
  },
  {
   "cell_type": "code",
   "execution_count": 25,
   "id": "3f5e285d-1567-4cb4-ba06-8e462aabe3f9",
   "metadata": {
    "tags": []
   },
   "outputs": [
    {
     "name": "stdout",
     "output_type": "stream",
     "text": [
      "[[-9.19562364e-02]\n",
      " [ 2.45234692e-01]\n",
      " [ 1.47700303e-01]\n",
      " [ 1.24903886e-01]\n",
      " [-8.08036706e-02]\n",
      " [ 1.90495016e-02]\n",
      " [ 6.35871524e-01]\n",
      " [ 8.50239333e-02]\n",
      " [ 1.50045804e-06]]\n"
     ]
    }
   ],
   "source": [
    "import numpy as np\n",
    "import numpy.linalg as la\n",
    "\n",
    "# Define the data\n",
    "n = len(assets)\n",
    "e = np.ones((n, 1))\n",
    "r = r.reshape(n, 1)\n",
    "mu = 0.001\n",
    "\n",
    "# Construct the matrix M and vector b\n",
    "M = np.block([[2 * S, -r, -e], [r.T, 0, 0], [e.T, 0, 0]])\n",
    "b = np.block([[np.zeros((n, 1))], [mu], [1]])\n",
    "\n",
    "# Solve for optimal portfolio weights\n",
    "x = la.solve(M, b)\n",
    "print(x)\n"
   ]
  },
  {
   "cell_type": "code",
   "execution_count": null,
   "id": "3cc7d2d8-fea1-48ee-ac57-d6b2fa5aae70",
   "metadata": {},
   "outputs": [],
   "source": []
  }
 ],
 "metadata": {
  "kernelspec": {
   "display_name": "Python 3 (ipykernel)",
   "language": "python",
   "name": "python3"
  },
  "language_info": {
   "codemirror_mode": {
    "name": "ipython",
    "version": 3
   },
   "file_extension": ".py",
   "mimetype": "text/x-python",
   "name": "python",
   "nbconvert_exporter": "python",
   "pygments_lexer": "ipython3",
   "version": "3.10.8"
  }
 },
 "nbformat": 4,
 "nbformat_minor": 5
}
